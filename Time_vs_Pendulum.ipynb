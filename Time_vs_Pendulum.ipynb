{
  "nbformat": 4,
  "nbformat_minor": 0,
  "metadata": {
    "colab": {
      "provenance": [],
      "authorship_tag": "ABX9TyPuq1719GMSqoAx5PM21i9D",
      "include_colab_link": true
    },
    "kernelspec": {
      "name": "python3",
      "display_name": "Python 3"
    },
    "language_info": {
      "name": "python"
    }
  },
  "cells": [
    {
      "cell_type": "markdown",
      "metadata": {
        "id": "view-in-github",
        "colab_type": "text"
      },
      "source": [
        "<a href=\"https://colab.research.google.com/github/aekanun2020/2023-Automate-Model-Training/blob/main/Time_vs_Pendulum.ipynb\" target=\"_parent\"><img src=\"https://colab.research.google.com/assets/colab-badge.svg\" alt=\"Open In Colab\"/></a>"
      ]
    },
    {
      "cell_type": "markdown",
      "source": [
        "# **เราต้องการใช้ python module/library ในการระบุวันที่ feb 1, 1990**"
      ],
      "metadata": {
        "id": "D26Sd7YfLXIN"
      }
    },
    {
      "cell_type": "markdown",
      "source": [
        "กรณีใช้ Time Module"
      ],
      "metadata": {
        "id": "LSGTEO6hMaTo"
      }
    },
    {
      "cell_type": "code",
      "execution_count": 1,
      "metadata": {
        "colab": {
          "base_uri": "https://localhost:8080/"
        },
        "id": "4WDHz0NnLLys",
        "outputId": "85f4332f-6d52-437e-f9e0-764d0b3e1efd"
      },
      "outputs": [
        {
          "output_type": "stream",
          "name": "stdout",
          "text": [
            "time.struct_time(tm_year=1990, tm_mon=2, tm_mday=1, tm_hour=0, tm_min=0, tm_sec=0, tm_wday=3, tm_yday=32, tm_isdst=0)\n"
          ]
        }
      ],
      "source": [
        "import time\n",
        "\n",
        "# Specify the date as a tuple of (year, month, day, hour, minute, second, weekday, Julian day, DST flag)\n",
        "date_tuple = (1990, 2, 1, 0, 0, 0, 0, 0, -1)\n",
        "\n",
        "# Convert the date tuple to a timestamp using time.mktime()\n",
        "timestamp = time.mktime(date_tuple)\n",
        "\n",
        "# Convert the timestamp back to a struct_time using time.localtime()\n",
        "date = time.localtime(timestamp)\n",
        "\n",
        "# Print the resulting date\n",
        "print(date)\n"
      ]
    },
    {
      "cell_type": "code",
      "source": [
        "import time\n",
        "\n",
        "# Create a time.struct_time object for February 1, 1990\n",
        "date_tuple = time.struct_time((date))\n",
        "\n",
        "# Format the date tuple as a string using time.strftime()\n",
        "date_string = time.strftime('%Y-%m-%dT%H:%M:%S%z', date_tuple)\n",
        "\n",
        "print(date_string)\n",
        "\n"
      ],
      "metadata": {
        "colab": {
          "base_uri": "https://localhost:8080/"
        },
        "id": "m0769-xOLgJZ",
        "outputId": "fdf4848b-963a-49bc-8522-d2c774c28760"
      },
      "execution_count": 4,
      "outputs": [
        {
          "output_type": "stream",
          "name": "stdout",
          "text": [
            "1990-02-01T00:00:00+0000\n"
          ]
        }
      ]
    },
    {
      "cell_type": "markdown",
      "source": [
        "กรณีใช้ Pendulum Library"
      ],
      "metadata": {
        "id": "S4kUqiiPMdZz"
      }
    },
    {
      "cell_type": "code",
      "source": [
        "! pip install pendulum"
      ],
      "metadata": {
        "colab": {
          "base_uri": "https://localhost:8080/"
        },
        "id": "j5WoSuwMMlNj",
        "outputId": "5166f93d-96c5-431f-a3de-c35b15a60543"
      },
      "execution_count": 6,
      "outputs": [
        {
          "output_type": "stream",
          "name": "stdout",
          "text": [
            "Looking in indexes: https://pypi.org/simple, https://us-python.pkg.dev/colab-wheels/public/simple/\n",
            "Collecting pendulum\n",
            "  Downloading pendulum-2.1.2-cp39-cp39-manylinux1_x86_64.whl (155 kB)\n",
            "\u001b[2K     \u001b[90m━━━━━━━━━━━━━━━━━━━━━━━━━━━━━━━━━━━━━━━\u001b[0m \u001b[32m155.3/155.3 KB\u001b[0m \u001b[31m3.8 MB/s\u001b[0m eta \u001b[36m0:00:00\u001b[0m\n",
            "\u001b[?25hRequirement already satisfied: python-dateutil<3.0,>=2.6 in /usr/local/lib/python3.9/dist-packages (from pendulum) (2.8.2)\n",
            "Collecting pytzdata>=2020.1\n",
            "  Downloading pytzdata-2020.1-py2.py3-none-any.whl (489 kB)\n",
            "\u001b[2K     \u001b[90m━━━━━━━━━━━━━━━━━━━━━━━━━━━━━━━━━━━━━━\u001b[0m \u001b[32m490.0/490.0 KB\u001b[0m \u001b[31m19.5 MB/s\u001b[0m eta \u001b[36m0:00:00\u001b[0m\n",
            "\u001b[?25hRequirement already satisfied: six>=1.5 in /usr/local/lib/python3.9/dist-packages (from python-dateutil<3.0,>=2.6->pendulum) (1.16.0)\n",
            "Installing collected packages: pytzdata, pendulum\n",
            "Successfully installed pendulum-2.1.2 pytzdata-2020.1\n"
          ]
        }
      ]
    },
    {
      "cell_type": "code",
      "source": [
        "import pendulum\n",
        "\n",
        "date = pendulum.datetime(1990, 2, 1, tz='UTC')\n",
        "\n",
        "print(date)\n"
      ],
      "metadata": {
        "colab": {
          "base_uri": "https://localhost:8080/"
        },
        "id": "JWML5tBhLzB7",
        "outputId": "2ddbc445-69b5-4ab4-b675-ea28e4d6a1ab"
      },
      "execution_count": 8,
      "outputs": [
        {
          "output_type": "stream",
          "name": "stdout",
          "text": [
            "1990-02-01T00:00:00+00:00\n"
          ]
        }
      ]
    },
    {
      "cell_type": "markdown",
      "source": [
        "# **วันเวลาปัจจุบัน**"
      ],
      "metadata": {
        "id": "-hElTmS4NBM7"
      }
    },
    {
      "cell_type": "markdown",
      "source": [
        "กรณีใช้ Time Module"
      ],
      "metadata": {
        "id": "ZN4wn7bNNbzT"
      }
    },
    {
      "cell_type": "code",
      "source": [
        "# Using the time module to get the current time\n",
        "current_time = time.time()\n",
        "print(current_time)  # Outputs something like: 1648333932.8063135"
      ],
      "metadata": {
        "colab": {
          "base_uri": "https://localhost:8080/"
        },
        "id": "v8Jqf0MkMhiL",
        "outputId": "cd2e83d4-c0fd-4b41-9bf6-8ef34d2c1a87"
      },
      "execution_count": 13,
      "outputs": [
        {
          "output_type": "stream",
          "name": "stdout",
          "text": [
            "1680040584.3658812\n"
          ]
        }
      ]
    },
    {
      "cell_type": "markdown",
      "source": [
        "กรณีใช้ Pendulum Library"
      ],
      "metadata": {
        "id": "5RFKjh6dNiHt"
      }
    },
    {
      "cell_type": "code",
      "source": [
        "import pendulum\n",
        "\n",
        "# Get the current date and time\n",
        "now = pendulum.now()\n",
        "\n",
        "# Get the Unix timestamp\n",
        "unix_timestamp = now.int_timestamp\n",
        "\n",
        "# Print the current date and time and Unix timestamp\n",
        "print(f\"Current date and time: {now}\")\n",
        "print(f\"Unix timestamp: {unix_timestamp}\")\n"
      ],
      "metadata": {
        "colab": {
          "base_uri": "https://localhost:8080/"
        },
        "id": "m1nZcl6qNgId",
        "outputId": "18eb3637-e39f-46c4-e0be-3a4f09a338b8"
      },
      "execution_count": 14,
      "outputs": [
        {
          "output_type": "stream",
          "name": "stdout",
          "text": [
            "Current date and time: 2023-03-28T21:56:25.616322+00:00\n",
            "Unix timestamp: 1680040585\n"
          ]
        }
      ]
    },
    {
      "cell_type": "code",
      "source": [],
      "metadata": {
        "id": "knHQlgvwNu8G"
      },
      "execution_count": null,
      "outputs": []
    }
  ]
}